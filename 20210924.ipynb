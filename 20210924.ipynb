{
 "cells": [
  {
   "cell_type": "markdown",
   "id": "d313d7bc-9917-4c5b-b270-88c98fc165c1",
   "metadata": {},
   "source": [
    "# Numpyの基礎"
   ]
  },
  {
   "cell_type": "code",
   "execution_count": 1,
   "id": "1e04344b-0876-49e1-b439-a58096c0e184",
   "metadata": {},
   "outputs": [],
   "source": [
    "import numpy as np"
   ]
  },
  {
   "cell_type": "code",
   "execution_count": 18,
   "id": "05572f10-e451-44b8-9328-7aef054ac987",
   "metadata": {},
   "outputs": [
    {
     "name": "stdout",
     "output_type": "stream",
     "text": [
      "int64\n",
      "1\n",
      "3\n",
      "[1 2 3]\n",
      "1\n",
      "3\n",
      "6\n",
      "[1 3 6]\n",
      "[0.16666667 0.5        1.        ]\n"
     ]
    }
   ],
   "source": [
    "# 型を調べる\n",
    "data = np.array([3, 1, 2])\n",
    "print(data.dtype)\n",
    "\n",
    "# 次元\n",
    "print(data.ndim)\n",
    "\n",
    "# 要素数\n",
    "print(data.size)\n",
    "\n",
    "#ソート:もとのリストを変更するので注意\n",
    "data.sort()\n",
    "print(data)\n",
    "\n",
    "# 最大最小\n",
    "print(data.min())\n",
    "print(data.max())\n",
    "\n",
    "# 合計\n",
    "print(data.sum())\n",
    "\n",
    "# 積み上げ\n",
    "print(data.cumsum())\n",
    "\n",
    "# 積み上げ割合\n",
    "print(data.cumsum() / data.sum())"
   ]
  },
  {
   "cell_type": "code",
   "execution_count": 22,
   "id": "bebd4efc-65b7-4e84-830c-910ad86499eb",
   "metadata": {},
   "outputs": [
    {
     "name": "stdout",
     "output_type": "stream",
     "text": [
      "[ 1.76405235  0.40015721  0.97873798  2.2408932   1.86755799 -0.97727788\n",
      "  0.95008842 -0.15135721 -0.10321885  0.4105985 ]\n"
     ]
    }
   ],
   "source": [
    "## 乱数\n",
    "\n",
    "# シード値\n",
    "np.random.seed(0)\n",
    "\n",
    "# 正規分布の乱数を10個発生\n",
    "rnd_data = np.random.randn(10)\n",
    "print(rnd_data)"
   ]
  },
  {
   "cell_type": "code",
   "execution_count": 27,
   "id": "112e4c08-917e-4044-b5d6-8cfdc9deeba5",
   "metadata": {},
   "outputs": [
    {
     "name": "stdout",
     "output_type": "stream",
     "text": [
      "[10 10  4 10 10  1 10  4  8  6]\n",
      "[ 3 10  7  1  4  8  5  2  9  6]\n"
     ]
    }
   ],
   "source": [
    "## 抽出\n",
    "data = np.array([9, 2, 3, 4, 10, 6, 7, 8, 1, 5])\n",
    "\n",
    "# 復元抽出\n",
    "print(np.random.choice(data, 10))\n",
    "\n",
    "#非復元抽出\n",
    "print(np.random.choice(data, 10, replace=False))"
   ]
  },
  {
   "cell_type": "code",
   "execution_count": 46,
   "id": "761e99e8-4706-4848-98c8-465b272af9f7",
   "metadata": {},
   "outputs": [
    {
     "name": "stdout",
     "output_type": "stream",
     "text": [
      "[[0 1 2]\n",
      " [3 4 5]\n",
      " [6 7 8]] \n",
      "\n",
      "1行目 [0 1 2] \n",
      "\n",
      "1列目 [0 3 6] \n",
      "\n",
      "[[ 9 10 11]\n",
      " [12 13 14]\n",
      " [15 16 17]] \n",
      "\n",
      "[[ 42  45  48]\n",
      " [150 162 174]\n",
      " [258 279 300]] \n",
      "\n",
      "[[0 0]\n",
      " [0 0]\n",
      " [0 0]] \n",
      "\n",
      "[[1. 1.]\n",
      " [1. 1.]\n",
      " [1. 1.]] \n",
      "\n"
     ]
    }
   ],
   "source": [
    "# 行列\n",
    "\n",
    "array1 = np.arange(9).reshape(3, 3)\n",
    "print(array1, '\\n')\n",
    "\n",
    "# 1行目\n",
    "print('1行目', array1[0, :], '\\n')\n",
    "\n",
    "# 1列目\n",
    "print('1列目', array1[:, 0], '\\n')\n",
    "\n",
    "# 行列の演算\n",
    "array2 = np.arange(9, 18).reshape(3, 3)\n",
    "print(array2, '\\n')\n",
    "\n",
    "#内積\n",
    "print(np.dot(array1, array2), '\\n')\n",
    "\n",
    "#ゼロ行列\n",
    "print(np.zeros((3,2), dtype=np.int64), '\\n')\n",
    "\n",
    "# 1行列\n",
    "print(np.ones((3,2), dtype=np.float64), '\\n')"
   ]
  },
  {
   "cell_type": "code",
   "execution_count": null,
   "id": "358d1784-fc0c-4835-b25d-34aab9fc29f3",
   "metadata": {},
   "outputs": [],
   "source": []
  }
 ],
 "metadata": {
  "kernelspec": {
   "display_name": "Python 3",
   "language": "python",
   "name": "python3"
  },
  "language_info": {
   "codemirror_mode": {
    "name": "ipython",
    "version": 3
   },
   "file_extension": ".py",
   "mimetype": "text/x-python",
   "name": "python",
   "nbconvert_exporter": "python",
   "pygments_lexer": "ipython3",
   "version": "3.8.10"
  }
 },
 "nbformat": 4,
 "nbformat_minor": 5
}

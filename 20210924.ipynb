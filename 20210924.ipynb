{
 "cells": [
  {
   "cell_type": "markdown",
   "id": "d313d7bc-9917-4c5b-b270-88c98fc165c1",
   "metadata": {},
   "source": [
    "# Numpyの基礎"
   ]
  },
  {
   "cell_type": "code",
   "execution_count": 1,
   "id": "1e04344b-0876-49e1-b439-a58096c0e184",
   "metadata": {},
   "outputs": [],
   "source": [
    "import numpy as np"
   ]
  },
  {
   "cell_type": "code",
   "execution_count": 16,
   "id": "05572f10-e451-44b8-9328-7aef054ac987",
   "metadata": {},
   "outputs": [
    {
     "name": "stdout",
     "output_type": "stream",
     "text": [
      "int64\n",
      "1\n",
      "3\n",
      "[1 2 3]\n",
      "1\n",
      "3\n",
      "6\n",
      "[1 3 6]\n"
     ]
    }
   ],
   "source": [
    "# 型を調べる\n",
    "data = np.array([3, 1, 2])\n",
    "print(data.dtype)\n",
    "\n",
    "# 次元\n",
    "print(data.ndim)\n",
    "\n",
    "# 要素数\n",
    "print(data.size)\n",
    "\n",
    "#ソート:もとのリストを変更するので注意\n",
    "data.sort()\n",
    "print(data)\n",
    "\n",
    "# 最大最小\n",
    "print(data.min())\n",
    "print(data.max())\n",
    "\n",
    "# 合計\n",
    "print(data.sum())\n",
    "\n",
    "#積み上げ\n",
    "print(data.cumsum())"
   ]
  },
  {
   "cell_type": "raw",
   "id": "982a884d-a31d-450e-b7cd-10608f0a417a",
   "metadata": {},
   "source": []
  }
 ],
 "metadata": {
  "kernelspec": {
   "display_name": "Python 3",
   "language": "python",
   "name": "python3"
  },
  "language_info": {
   "codemirror_mode": {
    "name": "ipython",
    "version": 3
   },
   "file_extension": ".py",
   "mimetype": "text/x-python",
   "name": "python",
   "nbconvert_exporter": "python",
   "pygments_lexer": "ipython3",
   "version": "3.8.10"
  }
 },
 "nbformat": 4,
 "nbformat_minor": 5
}

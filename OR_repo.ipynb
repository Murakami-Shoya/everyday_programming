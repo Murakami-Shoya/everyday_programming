{
  "nbformat": 4,
  "nbformat_minor": 0,
  "metadata": {
    "colab": {
      "provenance": [],
      "mount_file_id": "1jdlbBTznROvT1zdA2UEklQ2aIHQ0E9Ob",
      "authorship_tag": "ABX9TyMndZSgP+gPolCQX9gYCEGQ",
      "include_colab_link": true
    },
    "kernelspec": {
      "name": "python3",
      "display_name": "Python 3"
    },
    "language_info": {
      "name": "python"
    }
  },
  "cells": [
    {
      "cell_type": "markdown",
      "metadata": {
        "id": "view-in-github",
        "colab_type": "text"
      },
      "source": [
        "<a href=\"https://colab.research.google.com/github/Murakami-Shoya/everyday_programming/blob/master/OR_repo.ipynb\" target=\"_parent\"><img src=\"https://colab.research.google.com/assets/colab-badge.svg\" alt=\"Open In Colab\"/></a>"
      ]
    },
    {
      "cell_type": "code",
      "source": [
        "# import string\n",
        "# for i in string.ascii_letters[:10]:\n",
        "#     print(i)\n",
        "\n",
        "# i == string.ascii_letters[9]"
      ],
      "metadata": {
        "id": "L7sIjkyE0EZt"
      },
      "execution_count": null,
      "outputs": []
    },
    {
      "cell_type": "code",
      "execution_count": 49,
      "metadata": {
        "id": "NBlHl-gHzw6g"
      },
      "outputs": [],
      "source": [
        "# def maximaize(people, days):\n",
        "#     output = \"maximize\\n\"\n",
        "#     for person in string.ascii_letters[:people]:\n",
        "#         for day in range(days):\n",
        "#             output += str(\"x_\" + person + \"_\" + str(day+1) + \" + \")\n",
        "#         if(person != string.ascii_letters[people-1]):\n",
        "#             output += \"\\n\"\n",
        "#         else:\n",
        "#             output = output.rstrip(' + ')\n",
        "    \n",
        "#     return output"
      ]
    },
    {
      "cell_type": "code",
      "source": [
        "import pandas as pd\n",
        "import numpy as np\n",
        "\n",
        "df = pd.read_csv(\"/content/drive/MyDrive/or_schedule.csv\", index_col=0)\n",
        "df"
      ],
      "metadata": {
        "colab": {
          "base_uri": "https://localhost:8080/",
          "height": 363
        },
        "id": "w_ye4F48GP65",
        "outputId": "fb1a1f92-b519-4558-f93e-3768944cade2"
      },
      "execution_count": 1,
      "outputs": [
        {
          "output_type": "execute_result",
          "data": {
            "text/plain": [
              "     1    2    3    4    5    6    7    8    9   10   11   12   13   14   15\n",
              "a  1.0  1.0  NaN  NaN  1.0  1.0  NaN  1.0  1.0  NaN  1.0  1.0  NaN  1.0  1.0\n",
              "b  NaN  NaN  1.0  1.0  1.0  NaN  NaN  NaN  1.0  1.0  1.0  1.0  NaN  1.0  NaN\n",
              "c  1.0  1.0  NaN  1.0  1.0  NaN  NaN  1.0  NaN  1.0  1.0  NaN  NaN  NaN  NaN\n",
              "d  1.0  NaN  NaN  NaN  1.0  1.0  1.0  1.0  NaN  NaN  NaN  1.0  1.0  1.0  1.0\n",
              "e  1.0  NaN  1.0  NaN  1.0  NaN  1.0  NaN  1.0  NaN  1.0  NaN  1.0  NaN  1.0\n",
              "f  NaN  1.0  NaN  NaN  NaN  1.0  NaN  NaN  NaN  1.0  1.0  NaN  1.0  NaN  NaN\n",
              "g  NaN  1.0  1.0  NaN  NaN  1.0  1.0  1.0  NaN  NaN  NaN  NaN  NaN  1.0  1.0\n",
              "h  1.0  1.0  NaN  1.0  NaN  1.0  NaN  NaN  1.0  1.0  NaN  NaN  1.0  1.0  NaN\n",
              "i  NaN  NaN  1.0  NaN  NaN  NaN  1.0  NaN  1.0  NaN  NaN  1.0  NaN  1.0  NaN\n",
              "j  1.0  NaN  1.0  NaN  1.0  NaN  NaN  1.0  NaN  1.0  NaN  1.0  NaN  NaN  1.0"
            ],
            "text/html": [
              "\n",
              "  <div id=\"df-f5aeba8a-5b45-44d2-ac99-6b6a2e37500e\">\n",
              "    <div class=\"colab-df-container\">\n",
              "      <div>\n",
              "<style scoped>\n",
              "    .dataframe tbody tr th:only-of-type {\n",
              "        vertical-align: middle;\n",
              "    }\n",
              "\n",
              "    .dataframe tbody tr th {\n",
              "        vertical-align: top;\n",
              "    }\n",
              "\n",
              "    .dataframe thead th {\n",
              "        text-align: right;\n",
              "    }\n",
              "</style>\n",
              "<table border=\"1\" class=\"dataframe\">\n",
              "  <thead>\n",
              "    <tr style=\"text-align: right;\">\n",
              "      <th></th>\n",
              "      <th>1</th>\n",
              "      <th>2</th>\n",
              "      <th>3</th>\n",
              "      <th>4</th>\n",
              "      <th>5</th>\n",
              "      <th>6</th>\n",
              "      <th>7</th>\n",
              "      <th>8</th>\n",
              "      <th>9</th>\n",
              "      <th>10</th>\n",
              "      <th>11</th>\n",
              "      <th>12</th>\n",
              "      <th>13</th>\n",
              "      <th>14</th>\n",
              "      <th>15</th>\n",
              "    </tr>\n",
              "  </thead>\n",
              "  <tbody>\n",
              "    <tr>\n",
              "      <th>a</th>\n",
              "      <td>1.0</td>\n",
              "      <td>1.0</td>\n",
              "      <td>NaN</td>\n",
              "      <td>NaN</td>\n",
              "      <td>1.0</td>\n",
              "      <td>1.0</td>\n",
              "      <td>NaN</td>\n",
              "      <td>1.0</td>\n",
              "      <td>1.0</td>\n",
              "      <td>NaN</td>\n",
              "      <td>1.0</td>\n",
              "      <td>1.0</td>\n",
              "      <td>NaN</td>\n",
              "      <td>1.0</td>\n",
              "      <td>1.0</td>\n",
              "    </tr>\n",
              "    <tr>\n",
              "      <th>b</th>\n",
              "      <td>NaN</td>\n",
              "      <td>NaN</td>\n",
              "      <td>1.0</td>\n",
              "      <td>1.0</td>\n",
              "      <td>1.0</td>\n",
              "      <td>NaN</td>\n",
              "      <td>NaN</td>\n",
              "      <td>NaN</td>\n",
              "      <td>1.0</td>\n",
              "      <td>1.0</td>\n",
              "      <td>1.0</td>\n",
              "      <td>1.0</td>\n",
              "      <td>NaN</td>\n",
              "      <td>1.0</td>\n",
              "      <td>NaN</td>\n",
              "    </tr>\n",
              "    <tr>\n",
              "      <th>c</th>\n",
              "      <td>1.0</td>\n",
              "      <td>1.0</td>\n",
              "      <td>NaN</td>\n",
              "      <td>1.0</td>\n",
              "      <td>1.0</td>\n",
              "      <td>NaN</td>\n",
              "      <td>NaN</td>\n",
              "      <td>1.0</td>\n",
              "      <td>NaN</td>\n",
              "      <td>1.0</td>\n",
              "      <td>1.0</td>\n",
              "      <td>NaN</td>\n",
              "      <td>NaN</td>\n",
              "      <td>NaN</td>\n",
              "      <td>NaN</td>\n",
              "    </tr>\n",
              "    <tr>\n",
              "      <th>d</th>\n",
              "      <td>1.0</td>\n",
              "      <td>NaN</td>\n",
              "      <td>NaN</td>\n",
              "      <td>NaN</td>\n",
              "      <td>1.0</td>\n",
              "      <td>1.0</td>\n",
              "      <td>1.0</td>\n",
              "      <td>1.0</td>\n",
              "      <td>NaN</td>\n",
              "      <td>NaN</td>\n",
              "      <td>NaN</td>\n",
              "      <td>1.0</td>\n",
              "      <td>1.0</td>\n",
              "      <td>1.0</td>\n",
              "      <td>1.0</td>\n",
              "    </tr>\n",
              "    <tr>\n",
              "      <th>e</th>\n",
              "      <td>1.0</td>\n",
              "      <td>NaN</td>\n",
              "      <td>1.0</td>\n",
              "      <td>NaN</td>\n",
              "      <td>1.0</td>\n",
              "      <td>NaN</td>\n",
              "      <td>1.0</td>\n",
              "      <td>NaN</td>\n",
              "      <td>1.0</td>\n",
              "      <td>NaN</td>\n",
              "      <td>1.0</td>\n",
              "      <td>NaN</td>\n",
              "      <td>1.0</td>\n",
              "      <td>NaN</td>\n",
              "      <td>1.0</td>\n",
              "    </tr>\n",
              "    <tr>\n",
              "      <th>f</th>\n",
              "      <td>NaN</td>\n",
              "      <td>1.0</td>\n",
              "      <td>NaN</td>\n",
              "      <td>NaN</td>\n",
              "      <td>NaN</td>\n",
              "      <td>1.0</td>\n",
              "      <td>NaN</td>\n",
              "      <td>NaN</td>\n",
              "      <td>NaN</td>\n",
              "      <td>1.0</td>\n",
              "      <td>1.0</td>\n",
              "      <td>NaN</td>\n",
              "      <td>1.0</td>\n",
              "      <td>NaN</td>\n",
              "      <td>NaN</td>\n",
              "    </tr>\n",
              "    <tr>\n",
              "      <th>g</th>\n",
              "      <td>NaN</td>\n",
              "      <td>1.0</td>\n",
              "      <td>1.0</td>\n",
              "      <td>NaN</td>\n",
              "      <td>NaN</td>\n",
              "      <td>1.0</td>\n",
              "      <td>1.0</td>\n",
              "      <td>1.0</td>\n",
              "      <td>NaN</td>\n",
              "      <td>NaN</td>\n",
              "      <td>NaN</td>\n",
              "      <td>NaN</td>\n",
              "      <td>NaN</td>\n",
              "      <td>1.0</td>\n",
              "      <td>1.0</td>\n",
              "    </tr>\n",
              "    <tr>\n",
              "      <th>h</th>\n",
              "      <td>1.0</td>\n",
              "      <td>1.0</td>\n",
              "      <td>NaN</td>\n",
              "      <td>1.0</td>\n",
              "      <td>NaN</td>\n",
              "      <td>1.0</td>\n",
              "      <td>NaN</td>\n",
              "      <td>NaN</td>\n",
              "      <td>1.0</td>\n",
              "      <td>1.0</td>\n",
              "      <td>NaN</td>\n",
              "      <td>NaN</td>\n",
              "      <td>1.0</td>\n",
              "      <td>1.0</td>\n",
              "      <td>NaN</td>\n",
              "    </tr>\n",
              "    <tr>\n",
              "      <th>i</th>\n",
              "      <td>NaN</td>\n",
              "      <td>NaN</td>\n",
              "      <td>1.0</td>\n",
              "      <td>NaN</td>\n",
              "      <td>NaN</td>\n",
              "      <td>NaN</td>\n",
              "      <td>1.0</td>\n",
              "      <td>NaN</td>\n",
              "      <td>1.0</td>\n",
              "      <td>NaN</td>\n",
              "      <td>NaN</td>\n",
              "      <td>1.0</td>\n",
              "      <td>NaN</td>\n",
              "      <td>1.0</td>\n",
              "      <td>NaN</td>\n",
              "    </tr>\n",
              "    <tr>\n",
              "      <th>j</th>\n",
              "      <td>1.0</td>\n",
              "      <td>NaN</td>\n",
              "      <td>1.0</td>\n",
              "      <td>NaN</td>\n",
              "      <td>1.0</td>\n",
              "      <td>NaN</td>\n",
              "      <td>NaN</td>\n",
              "      <td>1.0</td>\n",
              "      <td>NaN</td>\n",
              "      <td>1.0</td>\n",
              "      <td>NaN</td>\n",
              "      <td>1.0</td>\n",
              "      <td>NaN</td>\n",
              "      <td>NaN</td>\n",
              "      <td>1.0</td>\n",
              "    </tr>\n",
              "  </tbody>\n",
              "</table>\n",
              "</div>\n",
              "      <button class=\"colab-df-convert\" onclick=\"convertToInteractive('df-f5aeba8a-5b45-44d2-ac99-6b6a2e37500e')\"\n",
              "              title=\"Convert this dataframe to an interactive table.\"\n",
              "              style=\"display:none;\">\n",
              "        \n",
              "  <svg xmlns=\"http://www.w3.org/2000/svg\" height=\"24px\"viewBox=\"0 0 24 24\"\n",
              "       width=\"24px\">\n",
              "    <path d=\"M0 0h24v24H0V0z\" fill=\"none\"/>\n",
              "    <path d=\"M18.56 5.44l.94 2.06.94-2.06 2.06-.94-2.06-.94-.94-2.06-.94 2.06-2.06.94zm-11 1L8.5 8.5l.94-2.06 2.06-.94-2.06-.94L8.5 2.5l-.94 2.06-2.06.94zm10 10l.94 2.06.94-2.06 2.06-.94-2.06-.94-.94-2.06-.94 2.06-2.06.94z\"/><path d=\"M17.41 7.96l-1.37-1.37c-.4-.4-.92-.59-1.43-.59-.52 0-1.04.2-1.43.59L10.3 9.45l-7.72 7.72c-.78.78-.78 2.05 0 2.83L4 21.41c.39.39.9.59 1.41.59.51 0 1.02-.2 1.41-.59l7.78-7.78 2.81-2.81c.8-.78.8-2.07 0-2.86zM5.41 20L4 18.59l7.72-7.72 1.47 1.35L5.41 20z\"/>\n",
              "  </svg>\n",
              "      </button>\n",
              "      \n",
              "  <style>\n",
              "    .colab-df-container {\n",
              "      display:flex;\n",
              "      flex-wrap:wrap;\n",
              "      gap: 12px;\n",
              "    }\n",
              "\n",
              "    .colab-df-convert {\n",
              "      background-color: #E8F0FE;\n",
              "      border: none;\n",
              "      border-radius: 50%;\n",
              "      cursor: pointer;\n",
              "      display: none;\n",
              "      fill: #1967D2;\n",
              "      height: 32px;\n",
              "      padding: 0 0 0 0;\n",
              "      width: 32px;\n",
              "    }\n",
              "\n",
              "    .colab-df-convert:hover {\n",
              "      background-color: #E2EBFA;\n",
              "      box-shadow: 0px 1px 2px rgba(60, 64, 67, 0.3), 0px 1px 3px 1px rgba(60, 64, 67, 0.15);\n",
              "      fill: #174EA6;\n",
              "    }\n",
              "\n",
              "    [theme=dark] .colab-df-convert {\n",
              "      background-color: #3B4455;\n",
              "      fill: #D2E3FC;\n",
              "    }\n",
              "\n",
              "    [theme=dark] .colab-df-convert:hover {\n",
              "      background-color: #434B5C;\n",
              "      box-shadow: 0px 1px 3px 1px rgba(0, 0, 0, 0.15);\n",
              "      filter: drop-shadow(0px 1px 2px rgba(0, 0, 0, 0.3));\n",
              "      fill: #FFFFFF;\n",
              "    }\n",
              "  </style>\n",
              "\n",
              "      <script>\n",
              "        const buttonEl =\n",
              "          document.querySelector('#df-f5aeba8a-5b45-44d2-ac99-6b6a2e37500e button.colab-df-convert');\n",
              "        buttonEl.style.display =\n",
              "          google.colab.kernel.accessAllowed ? 'block' : 'none';\n",
              "\n",
              "        async function convertToInteractive(key) {\n",
              "          const element = document.querySelector('#df-f5aeba8a-5b45-44d2-ac99-6b6a2e37500e');\n",
              "          const dataTable =\n",
              "            await google.colab.kernel.invokeFunction('convertToInteractive',\n",
              "                                                     [key], {});\n",
              "          if (!dataTable) return;\n",
              "\n",
              "          const docLinkHtml = 'Like what you see? Visit the ' +\n",
              "            '<a target=\"_blank\" href=https://colab.research.google.com/notebooks/data_table.ipynb>data table notebook</a>'\n",
              "            + ' to learn more about interactive tables.';\n",
              "          element.innerHTML = '';\n",
              "          dataTable['output_type'] = 'display_data';\n",
              "          await google.colab.output.renderOutput(dataTable, element);\n",
              "          const docLink = document.createElement('div');\n",
              "          docLink.innerHTML = docLinkHtml;\n",
              "          element.appendChild(docLink);\n",
              "        }\n",
              "      </script>\n",
              "    </div>\n",
              "  </div>\n",
              "  "
            ]
          },
          "metadata": {},
          "execution_count": 1
        }
      ]
    },
    {
      "cell_type": "code",
      "source": [
        "df.shape"
      ],
      "metadata": {
        "colab": {
          "base_uri": "https://localhost:8080/"
        },
        "id": "IoqL-m6hJFlz",
        "outputId": "8d3d5a8a-ad2a-45a8-d4df-575bc12786ea"
      },
      "execution_count": 2,
      "outputs": [
        {
          "output_type": "execute_result",
          "data": {
            "text/plain": [
              "(10, 15)"
            ]
          },
          "metadata": {},
          "execution_count": 2
        }
      ]
    },
    {
      "cell_type": "code",
      "source": [
        "# schedule = df.values.reshape(-1)\n",
        "\n",
        "val_list = []\n",
        "for person in df.index:\n",
        "    for day in range(df.shape[1]):\n",
        "        val_list.append(str(\"x_\" + person + \"_\" + str(day+1)))\n",
        "reshape_val_list = np.array(val_list).reshape(df.shape)"
      ],
      "metadata": {
        "id": "H1hrfpEiIDlY"
      },
      "execution_count": 4,
      "outputs": []
    },
    {
      "cell_type": "code",
      "source": [
        "reshape_val_list[:, 0]"
      ],
      "metadata": {
        "colab": {
          "base_uri": "https://localhost:8080/"
        },
        "id": "749Cs_aLS3rt",
        "outputId": "4360e5a4-b204-46a8-d73a-cd87a7a3e56d"
      },
      "execution_count": 5,
      "outputs": [
        {
          "output_type": "execute_result",
          "data": {
            "text/plain": [
              "array(['x_a_1', 'x_b_1', 'x_c_1', 'x_d_1', 'x_e_1', 'x_f_1', 'x_g_1',\n",
              "       'x_h_1', 'x_i_1', 'x_j_1'], dtype='<U6')"
            ]
          },
          "metadata": {},
          "execution_count": 5
        }
      ]
    },
    {
      "cell_type": "code",
      "source": [
        "def maximize():\n",
        "    output = \"maximize\\n\"\n",
        "\n",
        "    for col in df:\n",
        "        line = \"\"\n",
        "        for i, is_work in enumerate(df[col]):\n",
        "            if is_work == 1:\n",
        "                line += (reshape_val_list[i, int(col)-1] + \" + \")\n",
        "        output += (line + \"\\n\")\n",
        "    output = output.rstrip(' + \\n')\n",
        "    return output + \"\\n\""
      ],
      "metadata": {
        "id": "kTvs-seDEZ-4"
      },
      "execution_count": 14,
      "outputs": []
    },
    {
      "cell_type": "code",
      "source": [
        "print(maximize())"
      ],
      "metadata": {
        "colab": {
          "base_uri": "https://localhost:8080/"
        },
        "id": "dgjHJGt91eDO",
        "outputId": "a0e57869-174d-42e0-e946-92e3b93964b7"
      },
      "execution_count": 15,
      "outputs": [
        {
          "output_type": "stream",
          "name": "stdout",
          "text": [
            "maximize\n",
            "x_a_1 + x_c_1 + x_d_1 + x_e_1 + x_h_1 + x_j_1 + \n",
            "x_a_2 + x_c_2 + x_f_2 + x_g_2 + x_h_2 + \n",
            "x_b_3 + x_e_3 + x_g_3 + x_i_3 + x_j_3 + \n",
            "x_b_4 + x_c_4 + x_h_4 + \n",
            "x_a_5 + x_b_5 + x_c_5 + x_d_5 + x_e_5 + x_j_5 + \n",
            "x_a_6 + x_d_6 + x_f_6 + x_g_6 + x_h_6 + \n",
            "x_d_7 + x_e_7 + x_g_7 + x_i_7 + \n",
            "x_a_8 + x_c_8 + x_d_8 + x_g_8 + x_j_8 + \n",
            "x_a_9 + x_b_9 + x_e_9 + x_h_9 + x_i_9 + \n",
            "x_b_10 + x_c_10 + x_f_10 + x_h_10 + x_j_10 + \n",
            "x_a_11 + x_b_11 + x_c_11 + x_e_11 + x_f_11 + \n",
            "x_a_12 + x_b_12 + x_d_12 + x_i_12 + x_j_12 + \n",
            "x_d_13 + x_e_13 + x_f_13 + x_h_13 + \n",
            "x_a_14 + x_b_14 + x_d_14 + x_g_14 + x_h_14 + x_i_14 + \n",
            "x_a_15 + x_d_15 + x_e_15 + x_g_15 + x_j_15\n",
            "\n"
          ]
        }
      ]
    },
    {
      "cell_type": "code",
      "source": [
        "def subject_to():\n",
        "    output = \"subject to\\n\"\n",
        "    for col in df:\n",
        "        line = \"\"\n",
        "        for i, is_work in enumerate(df[col]):\n",
        "            if is_work == 1:\n",
        "                line += (reshape_val_list[i, int(col)-1] + \" + \")\n",
        "        line = line.rstrip(' + ')\n",
        "        output += (line + \" >= 3\\n\")\n",
        "        output += (line + \" <= 4\\n\")\n",
        "    return output"
      ],
      "metadata": {
        "id": "UpBZfS1-PCYg"
      },
      "execution_count": 8,
      "outputs": []
    },
    {
      "cell_type": "code",
      "source": [
        "print(subject_to())"
      ],
      "metadata": {
        "colab": {
          "base_uri": "https://localhost:8080/"
        },
        "id": "EJsMD7z133pn",
        "outputId": "01558d4e-c55e-47a9-b1cd-a31ef6564604"
      },
      "execution_count": 9,
      "outputs": [
        {
          "output_type": "stream",
          "name": "stdout",
          "text": [
            "subject to\n",
            "x_a_1 + x_c_1 + x_d_1 + x_e_1 + x_h_1 + x_j_1 >= 3\n",
            "x_a_1 + x_c_1 + x_d_1 + x_e_1 + x_h_1 + x_j_1 <= 4\n",
            "x_a_2 + x_c_2 + x_f_2 + x_g_2 + x_h_2 >= 3\n",
            "x_a_2 + x_c_2 + x_f_2 + x_g_2 + x_h_2 <= 4\n",
            "x_b_3 + x_e_3 + x_g_3 + x_i_3 + x_j_3 >= 3\n",
            "x_b_3 + x_e_3 + x_g_3 + x_i_3 + x_j_3 <= 4\n",
            "x_b_4 + x_c_4 + x_h_4 >= 3\n",
            "x_b_4 + x_c_4 + x_h_4 <= 4\n",
            "x_a_5 + x_b_5 + x_c_5 + x_d_5 + x_e_5 + x_j_5 >= 3\n",
            "x_a_5 + x_b_5 + x_c_5 + x_d_5 + x_e_5 + x_j_5 <= 4\n",
            "x_a_6 + x_d_6 + x_f_6 + x_g_6 + x_h_6 >= 3\n",
            "x_a_6 + x_d_6 + x_f_6 + x_g_6 + x_h_6 <= 4\n",
            "x_d_7 + x_e_7 + x_g_7 + x_i_7 >= 3\n",
            "x_d_7 + x_e_7 + x_g_7 + x_i_7 <= 4\n",
            "x_a_8 + x_c_8 + x_d_8 + x_g_8 + x_j_8 >= 3\n",
            "x_a_8 + x_c_8 + x_d_8 + x_g_8 + x_j_8 <= 4\n",
            "x_a_9 + x_b_9 + x_e_9 + x_h_9 + x_i_9 >= 3\n",
            "x_a_9 + x_b_9 + x_e_9 + x_h_9 + x_i_9 <= 4\n",
            "x_b_10 + x_c_10 + x_f_10 + x_h_10 + x_j_10 >= 3\n",
            "x_b_10 + x_c_10 + x_f_10 + x_h_10 + x_j_10 <= 4\n",
            "x_a_11 + x_b_11 + x_c_11 + x_e_11 + x_f_11 >= 3\n",
            "x_a_11 + x_b_11 + x_c_11 + x_e_11 + x_f_11 <= 4\n",
            "x_a_12 + x_b_12 + x_d_12 + x_i_12 + x_j_12 >= 3\n",
            "x_a_12 + x_b_12 + x_d_12 + x_i_12 + x_j_12 <= 4\n",
            "x_d_13 + x_e_13 + x_f_13 + x_h_13 >= 3\n",
            "x_d_13 + x_e_13 + x_f_13 + x_h_13 <= 4\n",
            "x_a_14 + x_b_14 + x_d_14 + x_g_14 + x_h_14 + x_i_14 >= 3\n",
            "x_a_14 + x_b_14 + x_d_14 + x_g_14 + x_h_14 + x_i_14 <= 4\n",
            "x_a_15 + x_d_15 + x_e_15 + x_g_15 + x_j_15 >= 3\n",
            "x_a_15 + x_d_15 + x_e_15 + x_g_15 + x_j_15 <= 4\n",
            "\n"
          ]
        }
      ]
    },
    {
      "cell_type": "code",
      "source": [
        "def bounds():\n",
        "    output = \"bounds\\nbinary\\n\"\n",
        "    for col in df:\n",
        "        line = \"\"\n",
        "        for i, is_work in enumerate(df[col]):\n",
        "            if is_work == 1:\n",
        "                line += (reshape_val_list[i, int(col)-1] + \" \")\n",
        "        output += (line + \"\\n\")\n",
        "    return output"
      ],
      "metadata": {
        "id": "-FZfqZl8V1Ek"
      },
      "execution_count": 12,
      "outputs": []
    },
    {
      "cell_type": "code",
      "source": [
        "print(bounds())"
      ],
      "metadata": {
        "colab": {
          "base_uri": "https://localhost:8080/"
        },
        "id": "LiHofXpM1hFD",
        "outputId": "aad34b8d-4342-423c-d3b2-bd0386c7375a"
      },
      "execution_count": 13,
      "outputs": [
        {
          "output_type": "stream",
          "name": "stdout",
          "text": [
            "bounds\n",
            "binary\n",
            "x_a_1 x_c_1 x_d_1 x_e_1 x_h_1 x_j_1 \n",
            "x_a_2 x_c_2 x_f_2 x_g_2 x_h_2 \n",
            "x_b_3 x_e_3 x_g_3 x_i_3 x_j_3 \n",
            "x_b_4 x_c_4 x_h_4 \n",
            "x_a_5 x_b_5 x_c_5 x_d_5 x_e_5 x_j_5 \n",
            "x_a_6 x_d_6 x_f_6 x_g_6 x_h_6 \n",
            "x_d_7 x_e_7 x_g_7 x_i_7 \n",
            "x_a_8 x_c_8 x_d_8 x_g_8 x_j_8 \n",
            "x_a_9 x_b_9 x_e_9 x_h_9 x_i_9 \n",
            "x_b_10 x_c_10 x_f_10 x_h_10 x_j_10 \n",
            "x_a_11 x_b_11 x_c_11 x_e_11 x_f_11 \n",
            "x_a_12 x_b_12 x_d_12 x_i_12 x_j_12 \n",
            "x_d_13 x_e_13 x_f_13 x_h_13 \n",
            "x_a_14 x_b_14 x_d_14 x_g_14 x_h_14 x_i_14 \n",
            "x_a_15 x_d_15 x_e_15 x_g_15 x_j_15 \n",
            "\n"
          ]
        }
      ]
    },
    {
      "cell_type": "code",
      "source": [
        "print(maximize() + subject_to() + bounds() + \"end\")"
      ],
      "metadata": {
        "colab": {
          "base_uri": "https://localhost:8080/"
        },
        "id": "w1kemX0LXEFy",
        "outputId": "7977746c-b10a-44b8-b022-84675787f717"
      },
      "execution_count": 16,
      "outputs": [
        {
          "output_type": "stream",
          "name": "stdout",
          "text": [
            "maximize\n",
            "x_a_1 + x_c_1 + x_d_1 + x_e_1 + x_h_1 + x_j_1 + \n",
            "x_a_2 + x_c_2 + x_f_2 + x_g_2 + x_h_2 + \n",
            "x_b_3 + x_e_3 + x_g_3 + x_i_3 + x_j_3 + \n",
            "x_b_4 + x_c_4 + x_h_4 + \n",
            "x_a_5 + x_b_5 + x_c_5 + x_d_5 + x_e_5 + x_j_5 + \n",
            "x_a_6 + x_d_6 + x_f_6 + x_g_6 + x_h_6 + \n",
            "x_d_7 + x_e_7 + x_g_7 + x_i_7 + \n",
            "x_a_8 + x_c_8 + x_d_8 + x_g_8 + x_j_8 + \n",
            "x_a_9 + x_b_9 + x_e_9 + x_h_9 + x_i_9 + \n",
            "x_b_10 + x_c_10 + x_f_10 + x_h_10 + x_j_10 + \n",
            "x_a_11 + x_b_11 + x_c_11 + x_e_11 + x_f_11 + \n",
            "x_a_12 + x_b_12 + x_d_12 + x_i_12 + x_j_12 + \n",
            "x_d_13 + x_e_13 + x_f_13 + x_h_13 + \n",
            "x_a_14 + x_b_14 + x_d_14 + x_g_14 + x_h_14 + x_i_14 + \n",
            "x_a_15 + x_d_15 + x_e_15 + x_g_15 + x_j_15\n",
            "subject to\n",
            "x_a_1 + x_c_1 + x_d_1 + x_e_1 + x_h_1 + x_j_1 >= 3\n",
            "x_a_1 + x_c_1 + x_d_1 + x_e_1 + x_h_1 + x_j_1 <= 4\n",
            "x_a_2 + x_c_2 + x_f_2 + x_g_2 + x_h_2 >= 3\n",
            "x_a_2 + x_c_2 + x_f_2 + x_g_2 + x_h_2 <= 4\n",
            "x_b_3 + x_e_3 + x_g_3 + x_i_3 + x_j_3 >= 3\n",
            "x_b_3 + x_e_3 + x_g_3 + x_i_3 + x_j_3 <= 4\n",
            "x_b_4 + x_c_4 + x_h_4 >= 3\n",
            "x_b_4 + x_c_4 + x_h_4 <= 4\n",
            "x_a_5 + x_b_5 + x_c_5 + x_d_5 + x_e_5 + x_j_5 >= 3\n",
            "x_a_5 + x_b_5 + x_c_5 + x_d_5 + x_e_5 + x_j_5 <= 4\n",
            "x_a_6 + x_d_6 + x_f_6 + x_g_6 + x_h_6 >= 3\n",
            "x_a_6 + x_d_6 + x_f_6 + x_g_6 + x_h_6 <= 4\n",
            "x_d_7 + x_e_7 + x_g_7 + x_i_7 >= 3\n",
            "x_d_7 + x_e_7 + x_g_7 + x_i_7 <= 4\n",
            "x_a_8 + x_c_8 + x_d_8 + x_g_8 + x_j_8 >= 3\n",
            "x_a_8 + x_c_8 + x_d_8 + x_g_8 + x_j_8 <= 4\n",
            "x_a_9 + x_b_9 + x_e_9 + x_h_9 + x_i_9 >= 3\n",
            "x_a_9 + x_b_9 + x_e_9 + x_h_9 + x_i_9 <= 4\n",
            "x_b_10 + x_c_10 + x_f_10 + x_h_10 + x_j_10 >= 3\n",
            "x_b_10 + x_c_10 + x_f_10 + x_h_10 + x_j_10 <= 4\n",
            "x_a_11 + x_b_11 + x_c_11 + x_e_11 + x_f_11 >= 3\n",
            "x_a_11 + x_b_11 + x_c_11 + x_e_11 + x_f_11 <= 4\n",
            "x_a_12 + x_b_12 + x_d_12 + x_i_12 + x_j_12 >= 3\n",
            "x_a_12 + x_b_12 + x_d_12 + x_i_12 + x_j_12 <= 4\n",
            "x_d_13 + x_e_13 + x_f_13 + x_h_13 >= 3\n",
            "x_d_13 + x_e_13 + x_f_13 + x_h_13 <= 4\n",
            "x_a_14 + x_b_14 + x_d_14 + x_g_14 + x_h_14 + x_i_14 >= 3\n",
            "x_a_14 + x_b_14 + x_d_14 + x_g_14 + x_h_14 + x_i_14 <= 4\n",
            "x_a_15 + x_d_15 + x_e_15 + x_g_15 + x_j_15 >= 3\n",
            "x_a_15 + x_d_15 + x_e_15 + x_g_15 + x_j_15 <= 4\n",
            "bounds\n",
            "binary\n",
            "x_a_1 x_c_1 x_d_1 x_e_1 x_h_1 x_j_1 \n",
            "x_a_2 x_c_2 x_f_2 x_g_2 x_h_2 \n",
            "x_b_3 x_e_3 x_g_3 x_i_3 x_j_3 \n",
            "x_b_4 x_c_4 x_h_4 \n",
            "x_a_5 x_b_5 x_c_5 x_d_5 x_e_5 x_j_5 \n",
            "x_a_6 x_d_6 x_f_6 x_g_6 x_h_6 \n",
            "x_d_7 x_e_7 x_g_7 x_i_7 \n",
            "x_a_8 x_c_8 x_d_8 x_g_8 x_j_8 \n",
            "x_a_9 x_b_9 x_e_9 x_h_9 x_i_9 \n",
            "x_b_10 x_c_10 x_f_10 x_h_10 x_j_10 \n",
            "x_a_11 x_b_11 x_c_11 x_e_11 x_f_11 \n",
            "x_a_12 x_b_12 x_d_12 x_i_12 x_j_12 \n",
            "x_d_13 x_e_13 x_f_13 x_h_13 \n",
            "x_a_14 x_b_14 x_d_14 x_g_14 x_h_14 x_i_14 \n",
            "x_a_15 x_d_15 x_e_15 x_g_15 x_j_15 \n",
            "\n"
          ]
        }
      ]
    },
    {
      "cell_type": "code",
      "source": [],
      "metadata": {
        "id": "1RfBqodZYz_2"
      },
      "execution_count": null,
      "outputs": []
    }
  ]
}
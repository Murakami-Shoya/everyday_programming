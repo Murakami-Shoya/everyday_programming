{
 "cells": [
  {
   "cell_type": "code",
   "execution_count": null,
   "metadata": {},
   "outputs": [],
   "source": [
    "print('git test')"
   ]
  }
 ],
 "metadata": {
  "kernelspec": {
   "display_name": "py27_get_data",
   "language": "python",
   "name": "python3"
  },
  "language_info": {
   "name": "python",
   "version": "2.7.18 |Anaconda, Inc.| (default, Apr 23 2020, 17:44:47) \n[GCC 4.2.1 Compatible Clang 4.0.1 (tags/RELEASE_401/final)]"
  },
  "orig_nbformat": 4,
  "vscode": {
   "interpreter": {
    "hash": "45ffdc81993b65f079b1daa1a0c081b0eab5a9cb4c8afaeb1aa0434cfc0e7bb0"
   }
  }
 },
 "nbformat": 4,
 "nbformat_minor": 2
}
